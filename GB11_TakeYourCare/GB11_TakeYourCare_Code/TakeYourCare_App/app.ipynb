{
  "cells": [
    {
      "cell_type": "code",
      "execution_count": null,
      "metadata": {
        "colab": {
          "base_uri": "https://localhost:8080/"
        },
        "id": "9yKo3lYyQQls",
        "outputId": "a3f9350a-0102-4645-fdf3-83aaad171d04",
        "collapsed": true
      },
      "outputs": [
        {
          "output_type": "stream",
          "name": "stdout",
          "text": [
            "Requirement already satisfied: transformers in /usr/local/lib/python3.11/dist-packages (4.52.2)\n",
            "Requirement already satisfied: torch in /usr/local/lib/python3.11/dist-packages (2.6.0+cu124)\n",
            "Requirement already satisfied: scikit-learn in /usr/local/lib/python3.11/dist-packages (1.6.1)\n",
            "Requirement already satisfied: nltk in /usr/local/lib/python3.11/dist-packages (3.9.1)\n",
            "Requirement already satisfied: filelock in /usr/local/lib/python3.11/dist-packages (from transformers) (3.18.0)\n",
            "Requirement already satisfied: huggingface-hub<1.0,>=0.30.0 in /usr/local/lib/python3.11/dist-packages (from transformers) (0.31.4)\n",
            "Requirement already satisfied: numpy>=1.17 in /usr/local/lib/python3.11/dist-packages (from transformers) (2.0.2)\n",
            "Requirement already satisfied: packaging>=20.0 in /usr/local/lib/python3.11/dist-packages (from transformers) (24.2)\n",
            "Requirement already satisfied: pyyaml>=5.1 in /usr/local/lib/python3.11/dist-packages (from transformers) (6.0.2)\n",
            "Requirement already satisfied: regex!=2019.12.17 in /usr/local/lib/python3.11/dist-packages (from transformers) (2024.11.6)\n",
            "Requirement already satisfied: requests in /usr/local/lib/python3.11/dist-packages (from transformers) (2.32.3)\n",
            "Requirement already satisfied: tokenizers<0.22,>=0.21 in /usr/local/lib/python3.11/dist-packages (from transformers) (0.21.1)\n",
            "Requirement already satisfied: safetensors>=0.4.3 in /usr/local/lib/python3.11/dist-packages (from transformers) (0.5.3)\n",
            "Requirement already satisfied: tqdm>=4.27 in /usr/local/lib/python3.11/dist-packages (from transformers) (4.67.1)\n",
            "Requirement already satisfied: typing-extensions>=4.10.0 in /usr/local/lib/python3.11/dist-packages (from torch) (4.13.2)\n",
            "Requirement already satisfied: networkx in /usr/local/lib/python3.11/dist-packages (from torch) (3.4.2)\n",
            "Requirement already satisfied: jinja2 in /usr/local/lib/python3.11/dist-packages (from torch) (3.1.6)\n",
            "Requirement already satisfied: fsspec in /usr/local/lib/python3.11/dist-packages (from torch) (2025.3.2)\n",
            "Collecting nvidia-cuda-nvrtc-cu12==12.4.127 (from torch)\n",
            "  Downloading nvidia_cuda_nvrtc_cu12-12.4.127-py3-none-manylinux2014_x86_64.whl.metadata (1.5 kB)\n",
            "Collecting nvidia-cuda-runtime-cu12==12.4.127 (from torch)\n",
            "  Downloading nvidia_cuda_runtime_cu12-12.4.127-py3-none-manylinux2014_x86_64.whl.metadata (1.5 kB)\n",
            "Collecting nvidia-cuda-cupti-cu12==12.4.127 (from torch)\n",
            "  Downloading nvidia_cuda_cupti_cu12-12.4.127-py3-none-manylinux2014_x86_64.whl.metadata (1.6 kB)\n",
            "Collecting nvidia-cudnn-cu12==9.1.0.70 (from torch)\n",
            "  Downloading nvidia_cudnn_cu12-9.1.0.70-py3-none-manylinux2014_x86_64.whl.metadata (1.6 kB)\n",
            "Collecting nvidia-cublas-cu12==12.4.5.8 (from torch)\n",
            "  Downloading nvidia_cublas_cu12-12.4.5.8-py3-none-manylinux2014_x86_64.whl.metadata (1.5 kB)\n",
            "Collecting nvidia-cufft-cu12==11.2.1.3 (from torch)\n",
            "  Downloading nvidia_cufft_cu12-11.2.1.3-py3-none-manylinux2014_x86_64.whl.metadata (1.5 kB)\n",
            "Collecting nvidia-curand-cu12==10.3.5.147 (from torch)\n",
            "  Downloading nvidia_curand_cu12-10.3.5.147-py3-none-manylinux2014_x86_64.whl.metadata (1.5 kB)\n",
            "Collecting nvidia-cusolver-cu12==11.6.1.9 (from torch)\n",
            "  Downloading nvidia_cusolver_cu12-11.6.1.9-py3-none-manylinux2014_x86_64.whl.metadata (1.6 kB)\n",
            "Collecting nvidia-cusparse-cu12==12.3.1.170 (from torch)\n",
            "  Downloading nvidia_cusparse_cu12-12.3.1.170-py3-none-manylinux2014_x86_64.whl.metadata (1.6 kB)\n",
            "Requirement already satisfied: nvidia-cusparselt-cu12==0.6.2 in /usr/local/lib/python3.11/dist-packages (from torch) (0.6.2)\n",
            "Requirement already satisfied: nvidia-nccl-cu12==2.21.5 in /usr/local/lib/python3.11/dist-packages (from torch) (2.21.5)\n",
            "Requirement already satisfied: nvidia-nvtx-cu12==12.4.127 in /usr/local/lib/python3.11/dist-packages (from torch) (12.4.127)\n",
            "Collecting nvidia-nvjitlink-cu12==12.4.127 (from torch)\n",
            "  Downloading nvidia_nvjitlink_cu12-12.4.127-py3-none-manylinux2014_x86_64.whl.metadata (1.5 kB)\n",
            "Requirement already satisfied: triton==3.2.0 in /usr/local/lib/python3.11/dist-packages (from torch) (3.2.0)\n",
            "Requirement already satisfied: sympy==1.13.1 in /usr/local/lib/python3.11/dist-packages (from torch) (1.13.1)\n",
            "Requirement already satisfied: mpmath<1.4,>=1.1.0 in /usr/local/lib/python3.11/dist-packages (from sympy==1.13.1->torch) (1.3.0)\n",
            "Requirement already satisfied: scipy>=1.6.0 in /usr/local/lib/python3.11/dist-packages (from scikit-learn) (1.15.3)\n",
            "Requirement already satisfied: joblib>=1.2.0 in /usr/local/lib/python3.11/dist-packages (from scikit-learn) (1.5.0)\n",
            "Requirement already satisfied: threadpoolctl>=3.1.0 in /usr/local/lib/python3.11/dist-packages (from scikit-learn) (3.6.0)\n",
            "Requirement already satisfied: click in /usr/local/lib/python3.11/dist-packages (from nltk) (8.2.1)\n",
            "Requirement already satisfied: MarkupSafe>=2.0 in /usr/local/lib/python3.11/dist-packages (from jinja2->torch) (3.0.2)\n",
            "Requirement already satisfied: charset-normalizer<4,>=2 in /usr/local/lib/python3.11/dist-packages (from requests->transformers) (3.4.2)\n",
            "Requirement already satisfied: idna<4,>=2.5 in /usr/local/lib/python3.11/dist-packages (from requests->transformers) (3.10)\n",
            "Requirement already satisfied: urllib3<3,>=1.21.1 in /usr/local/lib/python3.11/dist-packages (from requests->transformers) (2.4.0)\n",
            "Requirement already satisfied: certifi>=2017.4.17 in /usr/local/lib/python3.11/dist-packages (from requests->transformers) (2025.4.26)\n",
            "Downloading nvidia_cublas_cu12-12.4.5.8-py3-none-manylinux2014_x86_64.whl (363.4 MB)\n",
            "\u001b[2K   \u001b[90m━━━━━━━━━━━━━━━━━━━━━━━━━━━━━━━━━━━━━━━━\u001b[0m \u001b[32m363.4/363.4 MB\u001b[0m \u001b[31m4.1 MB/s\u001b[0m eta \u001b[36m0:00:00\u001b[0m\n",
            "\u001b[?25hDownloading nvidia_cuda_cupti_cu12-12.4.127-py3-none-manylinux2014_x86_64.whl (13.8 MB)\n",
            "\u001b[2K   \u001b[90m━━━━━━━━━━━━━━━━━━━━━━━━━━━━━━━━━━━━━━━━\u001b[0m \u001b[32m13.8/13.8 MB\u001b[0m \u001b[31m122.1 MB/s\u001b[0m eta \u001b[36m0:00:00\u001b[0m\n",
            "\u001b[?25hDownloading nvidia_cuda_nvrtc_cu12-12.4.127-py3-none-manylinux2014_x86_64.whl (24.6 MB)\n",
            "\u001b[2K   \u001b[90m━━━━━━━━━━━━━━━━━━━━━━━━━━━━━━━━━━━━━━━━\u001b[0m \u001b[32m24.6/24.6 MB\u001b[0m \u001b[31m88.7 MB/s\u001b[0m eta \u001b[36m0:00:00\u001b[0m\n",
            "\u001b[?25hDownloading nvidia_cuda_runtime_cu12-12.4.127-py3-none-manylinux2014_x86_64.whl (883 kB)\n",
            "\u001b[2K   \u001b[90m━━━━━━━━━━━━━━━━━━━━━━━━━━━━━━━━━━━━━━━━\u001b[0m \u001b[32m883.7/883.7 kB\u001b[0m \u001b[31m53.3 MB/s\u001b[0m eta \u001b[36m0:00:00\u001b[0m\n",
            "\u001b[?25hDownloading nvidia_cudnn_cu12-9.1.0.70-py3-none-manylinux2014_x86_64.whl (664.8 MB)\n",
            "\u001b[2K   \u001b[90m━━━━━━━━━━━━━━━━━━━━━━━━━━━━━━━━━━━━━━━━\u001b[0m \u001b[32m664.8/664.8 MB\u001b[0m \u001b[31m1.3 MB/s\u001b[0m eta \u001b[36m0:00:00\u001b[0m\n",
            "\u001b[?25hDownloading nvidia_cufft_cu12-11.2.1.3-py3-none-manylinux2014_x86_64.whl (211.5 MB)\n",
            "\u001b[2K   \u001b[90m━━━━━━━━━━━━━━━━━━━━━━━━━━━━━━━━━━━━━━━━\u001b[0m \u001b[32m211.5/211.5 MB\u001b[0m \u001b[31m7.2 MB/s\u001b[0m eta \u001b[36m0:00:00\u001b[0m\n",
            "\u001b[?25hDownloading nvidia_curand_cu12-10.3.5.147-py3-none-manylinux2014_x86_64.whl (56.3 MB)\n",
            "\u001b[2K   \u001b[90m━━━━━━━━━━━━━━━━━━━━━━━━━━━━━━━━━━━━━━━━\u001b[0m \u001b[32m56.3/56.3 MB\u001b[0m \u001b[31m14.0 MB/s\u001b[0m eta \u001b[36m0:00:00\u001b[0m\n",
            "\u001b[?25hDownloading nvidia_cusolver_cu12-11.6.1.9-py3-none-manylinux2014_x86_64.whl (127.9 MB)\n",
            "\u001b[2K   \u001b[90m━━━━━━━━━━━━━━━━━━━━━━━━━━━━━━━━━━━━━━━━\u001b[0m \u001b[32m127.9/127.9 MB\u001b[0m \u001b[31m6.6 MB/s\u001b[0m eta \u001b[36m0:00:00\u001b[0m\n",
            "\u001b[?25hDownloading nvidia_cusparse_cu12-12.3.1.170-py3-none-manylinux2014_x86_64.whl (207.5 MB)\n",
            "\u001b[2K   \u001b[90m━━━━━━━━━━━━━━━━━━━━━━━━━━━━━━━━━━━━━━━━\u001b[0m \u001b[32m207.5/207.5 MB\u001b[0m \u001b[31m5.0 MB/s\u001b[0m eta \u001b[36m0:00:00\u001b[0m\n",
            "\u001b[?25hDownloading nvidia_nvjitlink_cu12-12.4.127-py3-none-manylinux2014_x86_64.whl (21.1 MB)\n",
            "\u001b[2K   \u001b[90m━━━━━━━━━━━━━━━━━━━━━━━━━━━━━━━━━━━━━━━━\u001b[0m \u001b[32m21.1/21.1 MB\u001b[0m \u001b[31m42.4 MB/s\u001b[0m eta \u001b[36m0:00:00\u001b[0m\n",
            "\u001b[?25hInstalling collected packages: nvidia-nvjitlink-cu12, nvidia-curand-cu12, nvidia-cufft-cu12, nvidia-cuda-runtime-cu12, nvidia-cuda-nvrtc-cu12, nvidia-cuda-cupti-cu12, nvidia-cublas-cu12, nvidia-cusparse-cu12, nvidia-cudnn-cu12, nvidia-cusolver-cu12\n",
            "  Attempting uninstall: nvidia-nvjitlink-cu12\n",
            "    Found existing installation: nvidia-nvjitlink-cu12 12.5.82\n",
            "    Uninstalling nvidia-nvjitlink-cu12-12.5.82:\n",
            "      Successfully uninstalled nvidia-nvjitlink-cu12-12.5.82\n",
            "  Attempting uninstall: nvidia-curand-cu12\n",
            "    Found existing installation: nvidia-curand-cu12 10.3.6.82\n",
            "    Uninstalling nvidia-curand-cu12-10.3.6.82:\n",
            "      Successfully uninstalled nvidia-curand-cu12-10.3.6.82\n",
            "  Attempting uninstall: nvidia-cufft-cu12\n",
            "    Found existing installation: nvidia-cufft-cu12 11.2.3.61\n",
            "    Uninstalling nvidia-cufft-cu12-11.2.3.61:\n",
            "      Successfully uninstalled nvidia-cufft-cu12-11.2.3.61\n",
            "  Attempting uninstall: nvidia-cuda-runtime-cu12\n",
            "    Found existing installation: nvidia-cuda-runtime-cu12 12.5.82\n",
            "    Uninstalling nvidia-cuda-runtime-cu12-12.5.82:\n",
            "      Successfully uninstalled nvidia-cuda-runtime-cu12-12.5.82\n",
            "  Attempting uninstall: nvidia-cuda-nvrtc-cu12\n",
            "    Found existing installation: nvidia-cuda-nvrtc-cu12 12.5.82\n",
            "    Uninstalling nvidia-cuda-nvrtc-cu12-12.5.82:\n",
            "      Successfully uninstalled nvidia-cuda-nvrtc-cu12-12.5.82\n",
            "  Attempting uninstall: nvidia-cuda-cupti-cu12\n",
            "    Found existing installation: nvidia-cuda-cupti-cu12 12.5.82\n",
            "    Uninstalling nvidia-cuda-cupti-cu12-12.5.82:\n",
            "      Successfully uninstalled nvidia-cuda-cupti-cu12-12.5.82\n",
            "  Attempting uninstall: nvidia-cublas-cu12\n",
            "    Found existing installation: nvidia-cublas-cu12 12.5.3.2\n",
            "    Uninstalling nvidia-cublas-cu12-12.5.3.2:\n",
            "      Successfully uninstalled nvidia-cublas-cu12-12.5.3.2\n",
            "  Attempting uninstall: nvidia-cusparse-cu12\n",
            "    Found existing installation: nvidia-cusparse-cu12 12.5.1.3\n",
            "    Uninstalling nvidia-cusparse-cu12-12.5.1.3:\n",
            "      Successfully uninstalled nvidia-cusparse-cu12-12.5.1.3\n",
            "  Attempting uninstall: nvidia-cudnn-cu12\n",
            "    Found existing installation: nvidia-cudnn-cu12 9.3.0.75\n",
            "    Uninstalling nvidia-cudnn-cu12-9.3.0.75:\n",
            "      Successfully uninstalled nvidia-cudnn-cu12-9.3.0.75\n",
            "  Attempting uninstall: nvidia-cusolver-cu12\n",
            "    Found existing installation: nvidia-cusolver-cu12 11.6.3.83\n",
            "    Uninstalling nvidia-cusolver-cu12-11.6.3.83:\n",
            "      Successfully uninstalled nvidia-cusolver-cu12-11.6.3.83\n",
            "Successfully installed nvidia-cublas-cu12-12.4.5.8 nvidia-cuda-cupti-cu12-12.4.127 nvidia-cuda-nvrtc-cu12-12.4.127 nvidia-cuda-runtime-cu12-12.4.127 nvidia-cudnn-cu12-9.1.0.70 nvidia-cufft-cu12-11.2.1.3 nvidia-curand-cu12-10.3.5.147 nvidia-cusolver-cu12-11.6.1.9 nvidia-cusparse-cu12-12.3.1.170 nvidia-nvjitlink-cu12-12.4.127\n"
          ]
        }
      ],
      "source": [
        "!pip install transformers torch scikit-learn nltk"
      ]
    },
    {
      "cell_type": "markdown",
      "metadata": {
        "id": "8MU0kUuHQRVR"
      },
      "source": [
        "# Import OS  and Create Folders"
      ]
    },
    {
      "cell_type": "code",
      "execution_count": null,
      "metadata": {
        "id": "yhMtuYNJIFYg"
      },
      "outputs": [],
      "source": [
        "import os\n",
        "os.mkdir('templates')\n",
        "os.mkdir('static')"
      ]
    },
    {
      "cell_type": "markdown",
      "metadata": {
        "id": "JRkt0biVRdfT"
      },
      "source": [
        "# Import Libraries"
      ]
    },
    {
      "cell_type": "code",
      "execution_count": null,
      "metadata": {
        "id": "TYEYmzl5Rhu1"
      },
      "outputs": [],
      "source": [
        "import torch\n",
        "import pickle\n",
        "from transformers import AutoModelForSequenceClassification, AutoTokenizer"
      ]
    },
    {
      "cell_type": "markdown",
      "metadata": {
        "id": "MbSbRxUXRkV0"
      },
      "source": [
        "# Install flask and ngrok dependencies"
      ]
    },
    {
      "cell_type": "code",
      "execution_count": null,
      "metadata": {
        "colab": {
          "base_uri": "https://localhost:8080/"
        },
        "id": "gQiKVHMjuVVQ",
        "outputId": "08644f98-e57b-40cc-a136-50f3e42adec5"
      },
      "outputs": [
        {
          "output_type": "stream",
          "name": "stdout",
          "text": [
            "Collecting Flask==3.0.0\n",
            "  Downloading flask-3.0.0-py3-none-any.whl.metadata (3.6 kB)\n",
            "Collecting pyngrok==7.1.2\n",
            "  Downloading pyngrok-7.1.2-py3-none-any.whl.metadata (7.6 kB)\n",
            "Requirement already satisfied: Werkzeug>=3.0.0 in /usr/local/lib/python3.11/dist-packages (from Flask==3.0.0) (3.1.3)\n",
            "Requirement already satisfied: Jinja2>=3.1.2 in /usr/local/lib/python3.11/dist-packages (from Flask==3.0.0) (3.1.6)\n",
            "Requirement already satisfied: itsdangerous>=2.1.2 in /usr/local/lib/python3.11/dist-packages (from Flask==3.0.0) (2.2.0)\n",
            "Requirement already satisfied: click>=8.1.3 in /usr/local/lib/python3.11/dist-packages (from Flask==3.0.0) (8.2.1)\n",
            "Requirement already satisfied: blinker>=1.6.2 in /usr/local/lib/python3.11/dist-packages (from Flask==3.0.0) (1.9.0)\n",
            "Requirement already satisfied: PyYAML>=5.1 in /usr/local/lib/python3.11/dist-packages (from pyngrok==7.1.2) (6.0.2)\n",
            "Requirement already satisfied: MarkupSafe>=2.0 in /usr/local/lib/python3.11/dist-packages (from Jinja2>=3.1.2->Flask==3.0.0) (3.0.2)\n",
            "Downloading flask-3.0.0-py3-none-any.whl (99 kB)\n",
            "\u001b[2K   \u001b[90m━━━━━━━━━━━━━━━━━━━━━━━━━━━━━━━━━━━━━━━━\u001b[0m \u001b[32m99.7/99.7 kB\u001b[0m \u001b[31m3.7 MB/s\u001b[0m eta \u001b[36m0:00:00\u001b[0m\n",
            "\u001b[?25hDownloading pyngrok-7.1.2-py3-none-any.whl (22 kB)\n",
            "Installing collected packages: pyngrok, Flask\n",
            "  Attempting uninstall: Flask\n",
            "    Found existing installation: Flask 3.1.1\n",
            "    Uninstalling Flask-3.1.1:\n",
            "      Successfully uninstalled Flask-3.1.1\n",
            "Successfully installed Flask-3.0.0 pyngrok-7.1.2\n"
          ]
        }
      ],
      "source": [
        "!pip install Flask==3.0.0 pyngrok==7.1.2"
      ]
    },
    {
      "cell_type": "code",
      "execution_count": null,
      "metadata": {
        "colab": {
          "base_uri": "https://localhost:8080/"
        },
        "id": "C9wAQW6jph-x",
        "outputId": "e0b76d2c-f929-463d-987a-e6e6608ac7bb"
      },
      "outputs": [
        {
          "output_type": "stream",
          "name": "stdout",
          "text": [
            "Mounted at /content/drive\n"
          ]
        }
      ],
      "source": [
        "from google.colab import drive\n",
        "drive.mount('/content/drive')"
      ]
    },
    {
      "cell_type": "code",
      "execution_count": null,
      "metadata": {
        "id": "TzcKhfRtprZb"
      },
      "outputs": [],
      "source": [
        "# load the model, tokenizer and labelEncoder\n",
        "model = AutoModelForSequenceClassification.from_pretrained(\"/content/drive/MyDrive/saved_mental_status_roberta24000\")\n",
        "tokenizer = AutoTokenizer.from_pretrained(\"/content/drive/MyDrive/saved_mental_status_roberta24000\")\n",
        "\n",
        "label_encoder = pickle.load(open('/content/drive/MyDrive/saved_mental_status_roberta_label_encoder_24000.pkl', 'rb'))"
      ]
    },
    {
      "cell_type": "code",
      "execution_count": null,
      "metadata": {
        "id": "GrjjGso5VILG",
        "colab": {
          "base_uri": "https://localhost:8080/"
        },
        "outputId": "447fe9e7-626b-4010-9c6d-453b3c91677f"
      },
      "outputs": [
        {
          "output_type": "stream",
          "name": "stderr",
          "text": [
            "[nltk_data] Downloading package stopwords to /root/nltk_data...\n",
            "[nltk_data]   Unzipping corpora/stopwords.zip.\n"
          ]
        }
      ],
      "source": [
        "import re\n",
        "import nltk\n",
        "from nltk.corpus import stopwords\n",
        "\n",
        "# Download NLTK stopwords (only needed once)\n",
        "nltk.download('stopwords')\n",
        "\n",
        "# Get English stopwords from NLTK\n",
        "stop_words = set(stopwords.words('english'))\n",
        "\n",
        "def clean_statement(statement):\n",
        "    # Convert to lowercase\n",
        "    statement = statement.lower()\n",
        "\n",
        "    # Remove special characters (punctuation, non-alphabetic characters)\n",
        "    statement = re.sub(r'[^\\w\\s]', '', statement)\n",
        "\n",
        "    # Remove numbers (optional, depending on your use case)\n",
        "    statement = re.sub(r'\\d+', '', statement)\n",
        "\n",
        "    # Tokenize the statement (split into words)\n",
        "    words = statement.split()\n",
        "\n",
        "    # Remove stopwords\n",
        "    words = [word for word in words if word not in stop_words]\n",
        "\n",
        "    # Rejoin words into a cleaned statement\n",
        "    cleaned_statement = ' '.join(words)\n",
        "\n",
        "    return cleaned_statement"
      ]
    },
    {
      "cell_type": "code",
      "source": [
        "therapist_recommendations = {\n",
        "    \"Depression\": \"Dr. Alice Verma, Clinical Psychologist, Delhi | Ph: +91-9876543210\",\n",
        "    \"Suicidal\": \"Dr. Raj Malhotra, Crisis Counselor, Mumbai | Ph: +91-9000000000\",\n",
        "    \"Anxiety\": \"Dr. Sneha Patel, Therapist, Bangalore | Ph: +91-9887766554\",\n",
        "    \"Stress\": \"Dr. Aman Shah, Wellness Coach, Hyderabad | Ph: +91-9771122334\",\n",
        "    \"Bipolar\": \"Dr. Kavita Rao, Psychiatrist, Chennai | Ph: +91-9654321876\",\n",
        "    \"Personality disorder\": \"Dr. Meera Iyer, Specialist, Pune | Ph: +91-9765432180\",\n",
        "    \"Normal\": \"You seem to be doing well. Keep taking care of yourself!\"\n",
        "}"
      ],
      "metadata": {
        "id": "jNWFq5uSNFK3"
      },
      "execution_count": null,
      "outputs": []
    },
    {
      "cell_type": "code",
      "execution_count": null,
      "metadata": {
        "id": "AE189gcr0BNn"
      },
      "outputs": [],
      "source": [
        "ngrok_key = \"2to1c2xxjjrevdzuWoNTVY2tmg8_83qQ7RGCSTBJag8XcfqYx\""
      ]
    },
    {
      "cell_type": "code",
      "execution_count": null,
      "metadata": {
        "id": "Tp1OKKer69xq"
      },
      "outputs": [],
      "source": [
        "port = 9009"
      ]
    },
    {
      "cell_type": "code",
      "execution_count": null,
      "metadata": {
        "id": "FTxpONua0EtT"
      },
      "outputs": [],
      "source": [
        "from pyngrok import ngrok"
      ]
    },
    {
      "cell_type": "code",
      "execution_count": null,
      "metadata": {
        "id": "-Jb1WVFr0rVD",
        "colab": {
          "base_uri": "https://localhost:8080/"
        },
        "outputId": "1b3c6e83-33a4-4d47-df1a-91b733110932"
      },
      "outputs": [
        {
          "output_type": "stream",
          "name": "stdout",
          "text": []
        }
      ],
      "source": [
        "ngrok.set_auth_token(ngrok_key)"
      ]
    },
    {
      "cell_type": "code",
      "execution_count": null,
      "metadata": {
        "id": "FSBQUOxG1_4f"
      },
      "outputs": [],
      "source": [
        "styles = '''\n",
        "* {\n",
        "  font-family: \"Segoe UI\", Tahoma, Geneva, Verdana, sans-serif;\n",
        "}\n",
        "\n",
        "body {\n",
        "  background-color: #171717 !important;\n",
        "  color: white !important;\n",
        "  margin: 0;\n",
        "  padding: 0;\n",
        "}\n",
        "\n",
        "textarea {\n",
        "  background-color: #292929 !important;\n",
        "  box-shadow: 0 4px 8px rgba(0, 0, 0, 0.2), 0 6px 20px rgba(0, 0, 0, 0.19);\n",
        "  color: white;\n",
        "  border: none;\n",
        "  padding: 10px;\n",
        "  width: 100%;\n",
        "  resize: none;\n",
        "}\n",
        "\n",
        "input[type=\"submit\"],\n",
        "#backbtn {\n",
        "  background-color: #008cba;\n",
        "  border: none;\n",
        "  color: white;\n",
        "  padding: 15px 32px;\n",
        "  text-align: center;\n",
        "  margin-top: 10px;\n",
        "}\n",
        "\n",
        ".navbar {\n",
        "  background-color: #111 !important;\n",
        "  padding: 0.5rem 1rem;\n",
        "}\n",
        "\n",
        ".navbar-brand {\n",
        "  display: flex;\n",
        "  align-items: center;\n",
        "}\n",
        "\n",
        ".navbar-brand img {\n",
        "  width: 40px;\n",
        "  height: 40px;\n",
        "  margin-right: 10px;\n",
        "}\n",
        "\n",
        ".navbar-brand p {\n",
        "  margin: 0;\n",
        "  font-size: 1.5rem;\n",
        "  font-weight: 600;\n",
        "  color: white;\n",
        "}\n",
        "\n",
        ".navbar-nav .nav-link {\n",
        "  color: white !important;\n",
        "  margin: 0 10px;\n",
        "  font-weight: 500;\n",
        "}\n",
        "\n",
        ".container {\n",
        "  max-width: 700px;\n",
        "  margin: auto;\n",
        "  margin-top: 50px;\n",
        "}\n",
        "\n",
        ".text {\n",
        "  font-size: 20px;\n",
        "  margin-top: 10px;\n",
        "}\n",
        "\n",
        "* {\n",
        "  font-family: \"Segoe UI\", Tahoma, Geneva, Verdana, sans-serif;\n",
        "}\n",
        "\n",
        "body {\n",
        "  background-color: #121212 !important;\n",
        "  color: #f1f1f1 !important;\n",
        "  padding-top: 2rem;\n",
        "}\n",
        "\n",
        "textarea,\n",
        "input[type=\"text\"] {\n",
        "  background-color: #1e1e1e !important;\n",
        "  border: 1px solid #444 !important;\n",
        "  color: #fff !important;\n",
        "  border-radius: 8px;\n",
        "  padding: 10px;\n",
        "}\n",
        "\n",
        "textarea:focus {\n",
        "  outline: none;\n",
        "  box-shadow: 0 0 10px #00bcd4;\n",
        "  border-color: #00bcd4;\n",
        "}\n",
        "\n",
        "h1,\n",
        "h3 {\n",
        "  color: #00bcd4;\n",
        "  margin-bottom: 20px;\n",
        "}\n",
        "\n",
        "input[type=\"submit\"],\n",
        "#backbtn {\n",
        "  background-color: #00bcd4;\n",
        "  border: none;\n",
        "  color: white;\n",
        "  padding: 12px 30px;\n",
        "  font-weight: bold;\n",
        "  font-size: 16px;\n",
        "  border-radius: 5px;\n",
        "  margin-top: 10px;\n",
        "  transition: background-color 0.3s ease;\n",
        "}\n",
        "\n",
        "input[type=\"submit\"]:hover,\n",
        "#backbtn:hover {\n",
        "  background-color: #0199a5;\n",
        "}\n",
        "\n",
        ".container {\n",
        "  max-width: 700px;\n",
        "  margin: auto;\n",
        "  padding: 30px;\n",
        "  background-color: #1f1f1f;\n",
        "  border-radius: 15px;\n",
        "  box-shadow: 0 10px 30px rgba(0, 188, 212, 0.2);\n",
        "}\n",
        "\n",
        ".main-container {\n",
        "  background-color: #1e1e1e;\n",
        "  padding: 40px;\n",
        "  border-radius: 20px;\n",
        "  box-shadow: 0 0 30px rgba(0, 188, 212, 0.3);\n",
        "  width: 90%;\n",
        "  max-width: 800px;\n",
        "  text-align: left;\n",
        "}\n",
        "\n",
        ".navbar {\n",
        "  background-color: #0d0d0d !important;\n",
        "  border-bottom: 1px solid #00bcd4;\n",
        "}\n",
        "\n",
        ".navbar-brand p {\n",
        "  color: #00bcd4 !important;\n",
        "  font-size: 20px;\n",
        "  font-weight: bold;\n",
        "  margin-left: 10px;\n",
        "}\n",
        "\n",
        ".navbar {\n",
        "  background-color: #1f1f1f !important;\n",
        "  border-bottom: 2px solid #00bcd4;\n",
        "  padding: 10px 30px;\n",
        "  box-shadow: 0 2px 10px rgba(0, 188, 212, 0.2);\n",
        "  /* box-shadow: 0 0 20px rgba(0, 188, 212, 0.1); */\n",
        "}\n",
        "\n",
        ".navbar-brand {\n",
        "  display: flex;\n",
        "  align-items: center;\n",
        "}\n",
        "\n",
        ".navbar-brand img {\n",
        "  height: 35px;\n",
        "  margin-right: 10px;\n",
        "}\n",
        "\n",
        ".navbar-brand p {\n",
        "  color: #00bcd4;\n",
        "  font-size: 22px;\n",
        "  font-weight: bold;\n",
        "  margin: 0;\n",
        "}\n",
        "\n",
        ".navbar-nav .nav-link {\n",
        "  color: #ccc !important;\n",
        "  margin-left: 20px;\n",
        "  transition: color 0.3s ease;\n",
        "}\n",
        "\n",
        ".navbar-nav .nav-link:hover {\n",
        "  color: #00bcd4 !important;\n",
        "}\n",
        "\n",
        "body,\n",
        "html {\n",
        "  height: 100%;\n",
        "  margin: 0;\n",
        "  display: flex;\n",
        "  flex-direction: column;\n",
        "  background-color: #121212;\n",
        "  color: #fff;\n",
        "  font-family: \"Segoe UI\", sans-serif;\n",
        "}\n",
        "\n",
        ".main-wrapper {\n",
        "  flex: 1;\n",
        "  display: flex;\n",
        "  align-items: center;\n",
        "  justify-content: center;\n",
        "  padding: 20px;\n",
        "}\n",
        "\n",
        ".custom-navbar {\n",
        "  background-color: #2c2f36;\n",
        "  padding: 12px 30px;\n",
        "  box-shadow: 0 4px 10px rgba(0, 188, 212, 0.2);\n",
        "}\n",
        "\n",
        ".logo-img {\n",
        "  height: 40px;\n",
        "  margin-right: 10px;\n",
        "}\n",
        "\n",
        ".logo-text {\n",
        "  font-size: 22px;\n",
        "  font-weight: 600;\n",
        "  color: white;\n",
        "  margin: 0;\n",
        "}\n",
        "\n",
        ".logo-text .highlight {\n",
        "  color: #00bcd4;\n",
        "}\n",
        "\n",
        ".navbar-nav .nav-link {\n",
        "  color: #ccc;\n",
        "  margin-left: 20px;\n",
        "  font-weight: 500;\n",
        "  transition: color 0.3s;\n",
        "}\n",
        "\n",
        ".navbar-nav .nav-link:hover {\n",
        "  color: #00bcd4;\n",
        "}\n",
        "\n",
        "#tyc-img {\n",
        "  height: 80px;\n",
        "  width: 80px;\n",
        "}\n",
        "\n",
        "'''\n",
        "file1= open(\"static/styles.css\",\"w\")\n",
        "file1.write(styles)\n",
        "file1.close()"
      ]
    },
    {
      "cell_type": "code",
      "execution_count": null,
      "metadata": {
        "id": "wICjGGZtIKUF"
      },
      "outputs": [],
      "source": [
        "indextext='''\n",
        "<!DOCTYPE html>\n",
        "<html>\n",
        "\n",
        "<head>\n",
        "    <meta charset=\"utf-8\" />\n",
        "    <meta name=\"viewport\" content=\"width=device-width, initial-scale=1\" />\n",
        "    <link rel=\"stylesheet\" href=\"{{ url_for('static', filename='styles.css') }}\" />\n",
        "    <link rel=\"icon\" href=\"https://raw.githubusercontent.com/mbtions/datasets/master/tyc.png\" type=\"image/png\" />\n",
        "    <link rel=\"stylesheet\" href=\"https://stackpath.bootstrapcdn.com/bootstrap/4.4.1/css/bootstrap.min.css\"\n",
        "        crossorigin=\"anonymous\" />\n",
        "    <title>TakeYourCare: Mental Health Detector</title>\n",
        "</head>\n",
        "\n",
        "<body>\n",
        "    <nav class=\"navbar navbar-expand-lg custom-navbar\">\n",
        "        <a class=\"navbar-brand d-flex align-items-center\" href=\"/\">\n",
        "            <img id=\"tyc-img\" src=\"https://raw.githubusercontent.com/mbtions/datasets/master/tyc.png\" alt=\"Logo\"\n",
        "                class=\"logo-img\">\n",
        "            <span class=\"logo-text\">Take<span class=\"highlight\">Your</span>Care</span>\n",
        "        </a>\n",
        "        <div class=\"collapse navbar-collapse justify-content-end\">\n",
        "            <ul class=\"navbar-nav\">\n",
        "                <li class=\"nav-item\">\n",
        "                    <a class=\"nav-link\" href=\"/\">User Input</a>\n",
        "                </li>\n",
        "                <li class=\"nav-item\">\n",
        "                    <a class=\"nav-link\" href=\"/result\">Diagnosis Result</a>\n",
        "                </li>\n",
        "            </ul>\n",
        "        </div>\n",
        "    </nav>\n",
        "\n",
        "\n",
        "    <div class=\"main-wrapper\">\n",
        "        <div class=\"main-container\">\n",
        "            {% block content %} {% endblock %}\n",
        "        </div>\n",
        "    </div>\n",
        "\n",
        "    <script src=\"https://code.jquery.com/jquery-3.2.1.slim.min.js\" crossorigin=\"anonymous\"></script>\n",
        "    <script src=\"https://cdnjs.cloudflare.com/ajax/libs/popper.js/1.12.9/umd/popper.min.js\"\n",
        "        crossorigin=\"anonymous\"></script>\n",
        "    <script src=\"https://maxcdn.bootstrapcdn.com/bootstrap/4.0.0/js/bootstrap.min.js\" crossorigin=\"anonymous\"></script>\n",
        "</body>\n",
        "\n",
        "</html>\n",
        "'''\n",
        "file1= open(\"templates/index.html\",\"w\")\n",
        "file1.write(indextext)\n",
        "file1.close()"
      ]
    },
    {
      "cell_type": "code",
      "execution_count": null,
      "metadata": {
        "id": "c1T6MDudIMuu"
      },
      "outputs": [],
      "source": [
        "hometext='''\n",
        "{% extends \"index.html\" %}\n",
        "\n",
        "{% block content%}\n",
        "<h3 id=\"tellmetext\" align=\"left\">Tell us how you're feeling today</h3>\n",
        "  <form method=\"POST\">\n",
        "      <div class=\"form-group\">\n",
        "          <textarea\n",
        "          class=\"form-control\"\n",
        "          name=\"userinputbody\"\n",
        "          id=\"userinputbody\"\n",
        "          placeholder=\"Type your thoughts or feelings here...\"\n",
        "          rows=\"6\"></textarea>\n",
        "      </div>\n",
        "      <input type=\"submit\" name=\"resultbtn class=\"btn btn-outline-success\" value=\"Analyze Mental Health\">\n",
        "  </form>\n",
        "{% endblock %}\n",
        "'''\n",
        "file1=open(\"templates/home.html\",\"w\")\n",
        "file1.write(hometext)\n",
        "file1.close()"
      ]
    },
    {
      "cell_type": "code",
      "execution_count": null,
      "metadata": {
        "id": "9aAfXR1QIOk_"
      },
      "outputs": [],
      "source": [
        "resulttext='''\n",
        "{% extends \"index.html\" %}\n",
        "\n",
        "{% block content%}\n",
        "  <h3 class=\"text\">📝 You wrote:</h3>\n",
        "            <div class=\"alert alert-secondary\" style=\"background-color:#2b2b2b; border:none; color:white;\">\n",
        "                {{ user_input }}\n",
        "            </div>\n",
        "\n",
        "            <h3 class=\"text\">🧠 Mental Health Status:</h3>\n",
        "            <div class=\"alert alert-info\" style=\"font-size: 18px;\">\n",
        "                {{ predicted_status }}\n",
        "            </div>\n",
        "\n",
        "            <h3 class=\"text\">👩‍⚕️ Recommendation:</h3>\n",
        "            <div class=\"alert alert-success\" style=\"font-size: 18px;\">\n",
        "                {{ therapist }}\n",
        "            </div>\n",
        "\n",
        "            <a href=\"/\" class=\"btn btn-outline-success\" name=\"backbtn\" id=\"backbtn\">🔙 Go Back</a>\n",
        "{% endblock %}\n",
        "\n",
        "'''\n",
        "file1=open(\"templates/result.html\",\"w\")\n",
        "file1.write(resulttext)\n",
        "file1.close()"
      ]
    },
    {
      "cell_type": "code",
      "execution_count": null,
      "metadata": {
        "id": "FfvdN2un12AA"
      },
      "outputs": [],
      "source": [
        "from flask import Flask, render_template, request\n",
        "from transformers import BertTokenizer\n",
        "\n",
        "app = Flask(__name__, static_folder=\"static/\")\n",
        "\n",
        "class MentalHealthDetection:\n",
        "  def __init__(self, body, result, therapist=''):\n",
        "    self.body = body\n",
        "    self.result = result\n",
        "    self.therapist = therapist\n",
        "\n",
        "  def predictMentalHealth(self):\n",
        "    text = self.body.strip()\n",
        "    if not text:\n",
        "      self.result = \"No input provided.\"\n",
        "      self.therapist = \"Please write something so we can help.\"\n",
        "      return\n",
        "\n",
        "    cleaned_text = clean_statement(text)\n",
        "    inputs = tokenizer(cleaned_text, return_tensors=\"pt\", padding=True, truncation=True, max_length=512)\n",
        "    outputs = model(**inputs)\n",
        "    logits = outputs.logits\n",
        "    predicted_class = torch.argmax(logits, dim=1).item()\n",
        "    self.result = label_encoder.inverse_transform([predicted_class])[0]\n",
        "\n",
        "    self.therapist = therapist_recommendations.get(self.result, \"Sorry, no therapist found for this condition.\")\n",
        "\n",
        "\n",
        "MD = MentalHealthDetection('', '')\n",
        "predicted_status = ''\n"
      ]
    },
    {
      "cell_type": "code",
      "execution_count": null,
      "metadata": {
        "id": "kR0a4Gdg7CF2",
        "colab": {
          "base_uri": "https://localhost:8080/"
        },
        "outputId": "aff2d89d-d03a-4878-fa79-ae1dc0c12857"
      },
      "outputs": [
        {
          "output_type": "stream",
          "name": "stdout",
          "text": [
            "https://3302-35-233-148-134.ngrok-free.app\n"
          ]
        }
      ],
      "source": [
        "print(ngrok.connect(port).public_url)"
      ]
    },
    {
      "cell_type": "code",
      "execution_count": null,
      "metadata": {
        "id": "DLZ2COqb4LXO",
        "colab": {
          "base_uri": "https://localhost:8080/"
        },
        "outputId": "2fab07f0-98da-4583-e84f-f03acb544026"
      },
      "outputs": [
        {
          "output_type": "stream",
          "name": "stdout",
          "text": [
            " * Serving Flask app '__main__'\n",
            " * Debug mode: off\n"
          ]
        },
        {
          "output_type": "stream",
          "name": "stderr",
          "text": [
            "INFO:werkzeug:\u001b[31m\u001b[1mWARNING: This is a development server. Do not use it in a production deployment. Use a production WSGI server instead.\u001b[0m\n",
            " * Running on http://127.0.0.1:9009\n",
            "INFO:werkzeug:\u001b[33mPress CTRL+C to quit\u001b[0m\n",
            "INFO:werkzeug:127.0.0.1 - - [28/May/2025 09:03:31] \"GET / HTTP/1.1\" 200 -\n",
            "INFO:werkzeug:127.0.0.1 - - [28/May/2025 09:03:32] \"GET /static/styles.css HTTP/1.1\" 200 -\n"
          ]
        }
      ],
      "source": [
        "@app.route(\"/\", methods=['GET', 'POST'])\n",
        "def home():\n",
        "  # return render_template(\"home.html\")\n",
        "  if request.method == 'POST':\n",
        "    # print(request.form['userinputbody'])\n",
        "    MD.body = request.form['userinputbody']\n",
        "    MD.predictMentalHealth()\n",
        "    return render_template(\"result.html\", predicted_status=MD.result, user_input=MD.body, therapist=MD.therapist)\n",
        "  return render_template(\"home.html\")\n",
        "\n",
        "@app.route(\"/result\")\n",
        "def result():\n",
        "  return render_template('result.html', predicted_status=MD.result, user_input=MD.body, therapist=MD.therapist)\n",
        "\n",
        "if __name__ == '__main__':\n",
        "  app.run(port = port)"
      ]
    },
    {
      "cell_type": "code",
      "execution_count": null,
      "metadata": {
        "id": "fRkQl9TcotNS"
      },
      "outputs": [],
      "source": []
    }
  ],
  "metadata": {
    "colab": {
      "provenance": [],
      "gpuType": "T4"
    },
    "kernelspec": {
      "display_name": "Python 3",
      "name": "python3"
    },
    "language_info": {
      "name": "python"
    },
    "accelerator": "GPU"
  },
  "nbformat": 4,
  "nbformat_minor": 0
}